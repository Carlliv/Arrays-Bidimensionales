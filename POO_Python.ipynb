{
  "cells": [
    {
      "cell_type": "markdown",
      "id": "a749fb10",
      "metadata": {
        "id": "a749fb10"
      },
      "source": [
        "# Organizar el código y llamar funciones/transformaciones n cantidad de veces (re-utilizar)"
      ]
    },
    {
      "cell_type": "markdown",
      "id": "82e39b43",
      "metadata": {
        "id": "82e39b43"
      },
      "source": [
        "# Imports"
      ]
    },
    {
      "cell_type": "code",
      "execution_count": null,
      "id": "68edb283",
      "metadata": {
        "id": "68edb283"
      },
      "outputs": [],
      "source": [
        "class Persona: #Def clase\n",
        "    '''Clase que repesenta a una persona'''\n",
        "    nombre = 'Isaac'\n",
        "    apellido = \"Hernandez\"\n",
        "    genero = \"M\"\n",
        "    cedula = \"N/A\""
      ]
    },
    {
      "cell_type": "code",
      "execution_count": null,
      "id": "64d08256",
      "metadata": {
        "id": "64d08256"
      },
      "outputs": [],
      "source": [
        "Emp1=Persona #Asignación"
      ]
    },
    {
      "cell_type": "code",
      "execution_count": null,
      "id": "386e54ca",
      "metadata": {
        "id": "386e54ca",
        "outputId": "147c7d3d-9854-48b1-eccf-4b06acf0d484"
      },
      "outputs": [
        {
          "data": {
            "text/plain": [
              "'Isaac'"
            ]
          },
          "execution_count": 51,
          "metadata": {},
          "output_type": "execute_result"
        }
      ],
      "source": [
        "Emp1.nombre #Buscar valor"
      ]
    },
    {
      "cell_type": "code",
      "execution_count": null,
      "id": "fda27c62",
      "metadata": {
        "id": "fda27c62"
      },
      "outputs": [],
      "source": [
        "Emp2=Persona"
      ]
    },
    {
      "cell_type": "code",
      "execution_count": null,
      "id": "31231268",
      "metadata": {
        "id": "31231268",
        "outputId": "413c1d4a-665b-4550-95ec-fcf9b44ad528"
      },
      "outputs": [
        {
          "data": {
            "text/plain": [
              "'Isaac'"
            ]
          },
          "execution_count": 53,
          "metadata": {},
          "output_type": "execute_result"
        }
      ],
      "source": [
        "Emp2.nombre"
      ]
    },
    {
      "cell_type": "code",
      "execution_count": null,
      "id": "9bc1f283",
      "metadata": {
        "id": "9bc1f283",
        "outputId": "350a10f9-c085-4546-88c8-b030fa8b4e0a"
      },
      "outputs": [
        {
          "data": {
            "text/plain": [
              "['__class__',\n",
              " '__delattr__',\n",
              " '__dict__',\n",
              " '__dir__',\n",
              " '__doc__',\n",
              " '__eq__',\n",
              " '__format__',\n",
              " '__ge__',\n",
              " '__getattribute__',\n",
              " '__gt__',\n",
              " '__hash__',\n",
              " '__init__',\n",
              " '__init_subclass__',\n",
              " '__le__',\n",
              " '__lt__',\n",
              " '__module__',\n",
              " '__ne__',\n",
              " '__new__',\n",
              " '__reduce__',\n",
              " '__reduce_ex__',\n",
              " '__repr__',\n",
              " '__setattr__',\n",
              " '__sizeof__',\n",
              " '__str__',\n",
              " '__subclasshook__',\n",
              " '__weakref__',\n",
              " 'apellido',\n",
              " 'cedula',\n",
              " 'genero',\n",
              " 'nombre']"
            ]
          },
          "execution_count": 4,
          "metadata": {},
          "output_type": "execute_result"
        }
      ],
      "source": [
        "dir(Emp1)"
      ]
    },
    {
      "cell_type": "code",
      "execution_count": null,
      "id": "f1d1c019",
      "metadata": {
        "id": "f1d1c019",
        "outputId": "d6873f10-6ba8-4dce-f4ec-422bd724bf69"
      },
      "outputs": [
        {
          "name": "stdout",
          "output_type": "stream",
          "text": [
            "El objeto de la clase Persona, Clase que repesenta a una persona\n"
          ]
        }
      ],
      "source": [
        "print(\"El objeto de la clase \"+Emp1.__name__+\", \"+Emp1.__doc__)"
      ]
    },
    {
      "cell_type": "code",
      "execution_count": null,
      "id": "f0f10311",
      "metadata": {
        "id": "f0f10311"
      },
      "outputs": [],
      "source": [
        "class Persona: #Def clase\n",
        "    '''Clase que repesenta a una persona'''\n",
        "    nombre = 'Isaac'\n",
        "    apellido = \"Hernandez\"\n",
        "    genero =\"M\"\n",
        "    cedula = \"N/A\"\n",
        "    def hablar(self,mensaje):\n",
        "        '''Impresión de un mensaje'''\n",
        "        return mensaje"
      ]
    },
    {
      "cell_type": "code",
      "execution_count": null,
      "id": "a946080e",
      "metadata": {
        "id": "a946080e"
      },
      "outputs": [],
      "source": [
        "Emp2=Persona"
      ]
    },
    {
      "cell_type": "code",
      "execution_count": null,
      "id": "7a74c3a6",
      "metadata": {
        "id": "7a74c3a6",
        "outputId": "a513d9dc-a535-460c-9d28-d0b09ac568a3"
      },
      "outputs": [
        {
          "data": {
            "text/plain": [
              "'Mensaje personalizado 1'"
            ]
          },
          "execution_count": 56,
          "metadata": {},
          "output_type": "execute_result"
        }
      ],
      "source": [
        "Persona().hablar(\"Mensaje personalizado 1\")"
      ]
    },
    {
      "cell_type": "code",
      "execution_count": null,
      "id": "45402968",
      "metadata": {
        "id": "45402968",
        "outputId": "1a4f1405-7ee4-4e7e-bc53-c026d1da292c"
      },
      "outputs": [
        {
          "data": {
            "text/plain": [
              "['__class__',\n",
              " '__delattr__',\n",
              " '__dict__',\n",
              " '__dir__',\n",
              " '__doc__',\n",
              " '__eq__',\n",
              " '__format__',\n",
              " '__ge__',\n",
              " '__getattribute__',\n",
              " '__gt__',\n",
              " '__hash__',\n",
              " '__init__',\n",
              " '__init_subclass__',\n",
              " '__le__',\n",
              " '__lt__',\n",
              " '__module__',\n",
              " '__ne__',\n",
              " '__new__',\n",
              " '__reduce__',\n",
              " '__reduce_ex__',\n",
              " '__repr__',\n",
              " '__setattr__',\n",
              " '__sizeof__',\n",
              " '__str__',\n",
              " '__subclasshook__',\n",
              " '__weakref__',\n",
              " 'apellido',\n",
              " 'cedula',\n",
              " 'genero',\n",
              " 'hablar',\n",
              " 'nombre']"
            ]
          },
          "execution_count": 9,
          "metadata": {},
          "output_type": "execute_result"
        }
      ],
      "source": [
        "dir(Emp2)"
      ]
    },
    {
      "cell_type": "code",
      "execution_count": null,
      "id": "14671da6",
      "metadata": {
        "id": "14671da6",
        "outputId": "db5d0829-d92a-4c1d-f0e2-40e2a22d0470"
      },
      "outputs": [
        {
          "data": {
            "text/plain": [
              "method"
            ]
          },
          "execution_count": 10,
          "metadata": {},
          "output_type": "execute_result"
        }
      ],
      "source": [
        "type(Persona().hablar)"
      ]
    },
    {
      "cell_type": "code",
      "execution_count": null,
      "id": "58d1c1cd",
      "metadata": {
        "id": "58d1c1cd",
        "outputId": "5777d48f-355c-4006-b3ef-ed2d956feec9"
      },
      "outputs": [
        {
          "data": {
            "text/plain": [
              "'Impresión de un mensaje'"
            ]
          },
          "execution_count": 11,
          "metadata": {},
          "output_type": "execute_result"
        }
      ],
      "source": [
        "Persona().hablar.__doc__"
      ]
    },
    {
      "cell_type": "code",
      "execution_count": null,
      "id": "28189d2e",
      "metadata": {
        "id": "28189d2e",
        "outputId": "dcd350f6-816a-4595-8f35-ed2953cccf45"
      },
      "outputs": [
        {
          "ename": "TypeError",
          "evalue": "hablar() missing 1 required positional argument: 'self'",
          "output_type": "error",
          "traceback": [
            "\u001b[1;31m---------------------------------------------------------------------------\u001b[0m",
            "\u001b[1;31mTypeError\u001b[0m                                 Traceback (most recent call last)",
            "\u001b[1;32mC:\\Users\\ISAAC~1.CED\\AppData\\Local\\Temp/ipykernel_22324/4100154613.py\u001b[0m in \u001b[0;36m<module>\u001b[1;34m\u001b[0m\n\u001b[1;32m----> 1\u001b[1;33m \u001b[0mEmp2\u001b[0m\u001b[1;33m.\u001b[0m\u001b[0mhablar\u001b[0m\u001b[1;33m(\u001b[0m\u001b[0mmensaje\u001b[0m\u001b[1;33m=\u001b[0m\u001b[1;34m\"mensaje2\"\u001b[0m\u001b[1;33m)\u001b[0m\u001b[1;33m\u001b[0m\u001b[1;33m\u001b[0m\u001b[0m\n\u001b[0m",
            "\u001b[1;31mTypeError\u001b[0m: hablar() missing 1 required positional argument: 'self'"
          ]
        }
      ],
      "source": [
        "Emp2.hablar(mensaje=\"mensaje2\")"
      ]
    },
    {
      "cell_type": "code",
      "execution_count": null,
      "id": "7ba971ad",
      "metadata": {
        "id": "7ba971ad"
      },
      "outputs": [],
      "source": []
    },
    {
      "cell_type": "code",
      "execution_count": null,
      "id": "e4986142",
      "metadata": {
        "id": "e4986142",
        "outputId": "7ec21af8-8d59-4474-be04-2632c346cb97"
      },
      "outputs": [
        {
          "data": {
            "text/plain": [
              "<function __main__.Persona.hablar(self, mensaje)>"
            ]
          },
          "execution_count": 12,
          "metadata": {},
          "output_type": "execute_result"
        }
      ],
      "source": [
        "Emp2.hablar"
      ]
    },
    {
      "cell_type": "code",
      "execution_count": null,
      "id": "8c096b08",
      "metadata": {
        "id": "8c096b08",
        "outputId": "dd217a15-2b7b-46bc-d654-f3590edde0c2"
      },
      "outputs": [
        {
          "data": {
            "text/plain": [
              "'Isaac'"
            ]
          },
          "execution_count": 13,
          "metadata": {},
          "output_type": "execute_result"
        }
      ],
      "source": [
        "Emp2.nombre"
      ]
    },
    {
      "cell_type": "code",
      "execution_count": null,
      "id": "eb713a44",
      "metadata": {
        "id": "eb713a44"
      },
      "outputs": [],
      "source": [
        "class Persona: #Def clase\n",
        "    '''Clase que repesenta a una persona'''\n",
        "    \n",
        "    def __init__(self, nombre, apellido, genero, cedula): #Definir función init\n",
        "        self.nombre = nombre\n",
        "        self.apellido = apellido\n",
        "        self.genero = genero\n",
        "        self.cedula = cedula\n",
        "        \n",
        "    def hablar(self,mensaje):\n",
        "        '''Impresión de un mensaje'''\n",
        "        return mensaje"
      ]
    },
    {
      "cell_type": "code",
      "execution_count": null,
      "id": "60cb7162",
      "metadata": {
        "id": "60cb7162",
        "outputId": "6003faeb-1d05-4aa5-e373-6e5f583e72d5"
      },
      "outputs": [
        {
          "ename": "TypeError",
          "evalue": "suma() takes 2 positional arguments but 3 were given",
          "output_type": "error",
          "traceback": [
            "\u001b[1;31m---------------------------------------------------------------------------\u001b[0m",
            "\u001b[1;31mTypeError\u001b[0m                                 Traceback (most recent call last)",
            "\u001b[1;32mC:\\Users\\ISAAC~1.CED\\AppData\\Local\\Temp/ipykernel_22324/841344817.py\u001b[0m in \u001b[0;36m<module>\u001b[1;34m\u001b[0m\n\u001b[0;32m      1\u001b[0m \u001b[1;32mdef\u001b[0m \u001b[0msuma\u001b[0m\u001b[1;33m(\u001b[0m\u001b[0ma\u001b[0m\u001b[1;33m,\u001b[0m\u001b[0mb\u001b[0m\u001b[1;33m)\u001b[0m\u001b[1;33m:\u001b[0m\u001b[1;33m\u001b[0m\u001b[1;33m\u001b[0m\u001b[0m\n\u001b[0;32m      2\u001b[0m     \u001b[1;32mreturn\u001b[0m \u001b[0ma\u001b[0m\u001b[1;33m+\u001b[0m\u001b[0mb\u001b[0m\u001b[1;33m\u001b[0m\u001b[1;33m\u001b[0m\u001b[0m\n\u001b[1;32m----> 3\u001b[1;33m \u001b[0msuma\u001b[0m\u001b[1;33m(\u001b[0m\u001b[1;36m10\u001b[0m\u001b[1;33m,\u001b[0m\u001b[1;36m2\u001b[0m\u001b[1;33m,\u001b[0m\u001b[1;36m4\u001b[0m\u001b[1;33m)\u001b[0m\u001b[1;33m\u001b[0m\u001b[1;33m\u001b[0m\u001b[0m\n\u001b[0m",
            "\u001b[1;31mTypeError\u001b[0m: suma() takes 2 positional arguments but 3 were given"
          ]
        }
      ],
      "source": [
        "def suma(a,b):\n",
        "    return a+b\n",
        "suma(10,2,4)"
      ]
    },
    {
      "cell_type": "code",
      "execution_count": null,
      "id": "983e6627",
      "metadata": {
        "id": "983e6627",
        "outputId": "eec2a48f-bc3c-479b-e4ab-9ea5acb88134"
      },
      "outputs": [
        {
          "data": {
            "text/plain": [
              "16"
            ]
          },
          "execution_count": 63,
          "metadata": {},
          "output_type": "execute_result"
        }
      ],
      "source": [
        "def suma(a,b,c):\n",
        "    return a+b+c\n",
        "suma(10,2,4)"
      ]
    },
    {
      "cell_type": "code",
      "execution_count": null,
      "id": "66a27a1e",
      "metadata": {
        "id": "66a27a1e"
      },
      "outputs": [],
      "source": [
        "class Superv(Persona):\n",
        "    '''Clase que representa a un supervisor'''\n",
        "    \n",
        "    def __init__(self, nombre, apellido, genero, cedula, puesto):\n",
        "        '''Constructor para un supervisor'''\n",
        "        \n",
        "        Persona.__init__(self, nombre, apellido, genero, cedula)\n",
        "        self.puesto=puesto #Atributo nuevo que lo diferencía de la clase Persona\n",
        "        #La Clase persona es la clase padre\n",
        "        self.tareas=[\"10\",\"11\",\"12\",\"13\"] #Nuevo atributo diferenciador por medio de Monkey Patching\n",
        "        \n",
        "    def __str__(self):\n",
        "        '''Devuelve la cadena descriptiva'''\n",
        "        #Super2=Superv(Mauricio,Gomez,M,456,B)\n",
        "        return \"%s: %s %s, puesto: '%s', sus tareas son %s\" %(\n",
        "            #   0   1  2            3                   4        \n",
        "        self.__doc__,self.nombre, self.apellido, self.puesto, self.consulta_tareas())\n",
        "        #      0           1             2             3            4\n",
        "        #Clase que representa a un supervisor: Mauricio Gomez, puesto: 'B', sus tareas son 10, 11, 12, 13\n",
        "    \n",
        "    def consulta_tareas(self):\n",
        "        '''Mostrar las tareas de un supervisor'''\n",
        "        return \", \".join(self.tareas)"
      ]
    },
    {
      "cell_type": "code",
      "execution_count": null,
      "id": "3a7389bc",
      "metadata": {
        "id": "3a7389bc"
      },
      "outputs": [],
      "source": [
        "Emp2=Persona(\"nombre\",\"apellido\",\"genero\",\"cedula\")"
      ]
    },
    {
      "cell_type": "code",
      "execution_count": null,
      "id": "54c79b95",
      "metadata": {
        "id": "54c79b95",
        "outputId": "b9b3606d-2997-4f77-9684-6caaabcb4adc"
      },
      "outputs": [
        {
          "data": {
            "text/plain": [
              "['__class__',\n",
              " '__delattr__',\n",
              " '__dict__',\n",
              " '__dir__',\n",
              " '__doc__',\n",
              " '__eq__',\n",
              " '__format__',\n",
              " '__ge__',\n",
              " '__getattribute__',\n",
              " '__gt__',\n",
              " '__hash__',\n",
              " '__init__',\n",
              " '__init_subclass__',\n",
              " '__le__',\n",
              " '__lt__',\n",
              " '__module__',\n",
              " '__ne__',\n",
              " '__new__',\n",
              " '__reduce__',\n",
              " '__reduce_ex__',\n",
              " '__repr__',\n",
              " '__setattr__',\n",
              " '__sizeof__',\n",
              " '__str__',\n",
              " '__subclasshook__',\n",
              " '__weakref__',\n",
              " 'apellido',\n",
              " 'cedula',\n",
              " 'genero',\n",
              " 'hablar',\n",
              " 'nombre']"
            ]
          },
          "execution_count": 68,
          "metadata": {},
          "output_type": "execute_result"
        }
      ],
      "source": [
        "dir(Emp2)"
      ]
    },
    {
      "cell_type": "code",
      "execution_count": null,
      "id": "2a3507cf",
      "metadata": {
        "id": "2a3507cf"
      },
      "outputs": [],
      "source": [
        "Super1=Superv(\"nombre\",\"apellido\",\"genero\",\"cedula\", \"puesto\")"
      ]
    },
    {
      "cell_type": "code",
      "execution_count": null,
      "id": "58215a9f",
      "metadata": {
        "id": "58215a9f",
        "outputId": "a5d240aa-d84b-4f51-dc3d-c2f5549da8bf"
      },
      "outputs": [
        {
          "data": {
            "text/plain": [
              "['__class__',\n",
              " '__delattr__',\n",
              " '__dict__',\n",
              " '__dir__',\n",
              " '__doc__',\n",
              " '__eq__',\n",
              " '__format__',\n",
              " '__ge__',\n",
              " '__getattribute__',\n",
              " '__gt__',\n",
              " '__hash__',\n",
              " '__init__',\n",
              " '__init_subclass__',\n",
              " '__le__',\n",
              " '__lt__',\n",
              " '__module__',\n",
              " '__ne__',\n",
              " '__new__',\n",
              " '__reduce__',\n",
              " '__reduce_ex__',\n",
              " '__repr__',\n",
              " '__setattr__',\n",
              " '__sizeof__',\n",
              " '__str__',\n",
              " '__subclasshook__',\n",
              " '__weakref__',\n",
              " 'apellido',\n",
              " 'cedula',\n",
              " 'consulta_tareas',\n",
              " 'genero',\n",
              " 'hablar',\n",
              " 'nombre',\n",
              " 'puesto',\n",
              " 'tareas']"
            ]
          },
          "execution_count": 38,
          "metadata": {},
          "output_type": "execute_result"
        }
      ],
      "source": [
        "dir(Super1)"
      ]
    },
    {
      "cell_type": "code",
      "execution_count": null,
      "id": "9bd7e131",
      "metadata": {
        "id": "9bd7e131"
      },
      "outputs": [],
      "source": [
        "Super2=Superv(\"Isaac\",\"Hernandez\",\"M\",\"123\", \"A\")"
      ]
    },
    {
      "cell_type": "code",
      "execution_count": null,
      "id": "6dfcad75",
      "metadata": {
        "id": "6dfcad75"
      },
      "outputs": [],
      "source": [
        "Super3=Superv(\"Mauricio\",\"Gomez\",\"M\",\"456\", \"B\") \n",
        "#Super3=Superv(Mauricio,Gomez,M,456,B)"
      ]
    },
    {
      "cell_type": "code",
      "execution_count": null,
      "id": "12b88e02",
      "metadata": {
        "id": "12b88e02",
        "outputId": "8d16c0f7-efce-42d8-e3aa-87ab7e182e48"
      },
      "outputs": [
        {
          "name": "stdout",
          "output_type": "stream",
          "text": [
            "Cedula de S1: cedula\n"
          ]
        }
      ],
      "source": [
        "print(\"Cedula de S1: {0}\".format(Super1.cedula))"
      ]
    },
    {
      "cell_type": "code",
      "execution_count": null,
      "id": "dd87ff12",
      "metadata": {
        "id": "dd87ff12",
        "outputId": "1f76ec40-ade3-4064-946e-442bf4f3c257"
      },
      "outputs": [
        {
          "name": "stdout",
          "output_type": "stream",
          "text": [
            "\n",
            "Clase que representa a un supervisor: Mauricio Gomez, puesto: 'B', sus tareas son 10, 11, 12, 13\n"
          ]
        }
      ],
      "source": [
        "print(\"\\n\" + str(Super3))"
      ]
    },
    {
      "cell_type": "code",
      "execution_count": null,
      "id": "d7cba013",
      "metadata": {
        "id": "d7cba013",
        "outputId": "7f336bfb-fc47-463c-83b6-b2d7052ec9a3"
      },
      "outputs": [
        {
          "name": "stdout",
          "output_type": "stream",
          "text": [
            "Las tareas son: 10, 11, 12, 13\n"
          ]
        }
      ],
      "source": [
        "print(\"Las tareas son: {0}\".format(Super2.consulta_tareas()))"
      ]
    },
    {
      "cell_type": "code",
      "execution_count": null,
      "id": "9010f18a",
      "metadata": {
        "id": "9010f18a",
        "outputId": "c737dc37-9cba-408d-f24f-3401c2e09621"
      },
      "outputs": [
        {
          "name": "stdout",
          "output_type": "stream",
          "text": [
            "Ingrese el primer número: 12\n",
            "Ingrese el segundo número: 2\n",
            "La sumatoria es igual a:  14.0\n",
            "La diferencia es igual a:  10.0\n"
          ]
        }
      ],
      "source": [
        "class calc:\n",
        "    def __init__(self,num1,num2):\n",
        "        self.num1= float(num1)\n",
        "        self.num2= float(num2)\n",
        "    \n",
        "    def suma(self):\n",
        "        suma=self.num1+self.num2\n",
        "        print('La sumatoria es igual a: ', suma)\n",
        "        \n",
        "    def resta(self):\n",
        "        resta=self.num1-self.num2\n",
        "        print('La diferencia es igual a: ',resta)\n",
        "        \n",
        "num1=input('Ingrese el primer número: ')\n",
        "num2=input('Ingrese el segundo número: ')\n",
        "\n",
        "calc=calc(num1,num2)\n",
        "calc.suma()\n",
        "calc.resta()"
      ]
    },
    {
      "cell_type": "code",
      "execution_count": null,
      "id": "dba0b924",
      "metadata": {
        "id": "dba0b924"
      },
      "outputs": [],
      "source": [
        "def suma(a,b):\n",
        "    return a+b"
      ]
    },
    {
      "cell_type": "code",
      "execution_count": null,
      "id": "bc0573de",
      "metadata": {
        "id": "bc0573de",
        "outputId": "5385c1b1-72a5-4407-c483-4b380abee7e7"
      },
      "outputs": [
        {
          "data": {
            "text/plain": [
              "3"
            ]
          },
          "execution_count": 2,
          "metadata": {},
          "output_type": "execute_result"
        }
      ],
      "source": [
        "suma(1,2)"
      ]
    },
    {
      "cell_type": "code",
      "execution_count": null,
      "id": "cc8a93d7",
      "metadata": {
        "id": "cc8a93d7",
        "outputId": "4ef1a8e6-da09-4722-839e-17a6f3eb49ce"
      },
      "outputs": [
        {
          "ename": "TypeError",
          "evalue": "suma() takes 2 positional arguments but 3 were given",
          "output_type": "error",
          "traceback": [
            "\u001b[1;31m---------------------------------------------------------------------------\u001b[0m",
            "\u001b[1;31mTypeError\u001b[0m                                 Traceback (most recent call last)",
            "\u001b[1;32m<ipython-input-3-7cd3df518c97>\u001b[0m in \u001b[0;36m<module>\u001b[1;34m\u001b[0m\n\u001b[1;32m----> 1\u001b[1;33m \u001b[0msuma\u001b[0m\u001b[1;33m(\u001b[0m\u001b[1;36m1\u001b[0m\u001b[1;33m,\u001b[0m\u001b[1;36m2\u001b[0m\u001b[1;33m,\u001b[0m\u001b[1;36m3\u001b[0m\u001b[1;33m)\u001b[0m\u001b[1;33m\u001b[0m\u001b[1;33m\u001b[0m\u001b[0m\n\u001b[0m",
            "\u001b[1;31mTypeError\u001b[0m: suma() takes 2 positional arguments but 3 were given"
          ]
        }
      ],
      "source": [
        "suma(1,2,3)"
      ]
    },
    {
      "cell_type": "code",
      "execution_count": null,
      "id": "72ff2b23",
      "metadata": {
        "id": "72ff2b23"
      },
      "outputs": [],
      "source": [
        "# Ejemplo: matriz1(param1,param2,param3,*args,**kwargs)"
      ]
    },
    {
      "cell_type": "code",
      "execution_count": null,
      "id": "554bda9a",
      "metadata": {
        "id": "554bda9a"
      },
      "outputs": [],
      "source": [
        "def suma_n(*args):\n",
        "    return sum(args)"
      ]
    },
    {
      "cell_type": "code",
      "execution_count": null,
      "id": "059a1027",
      "metadata": {
        "id": "059a1027",
        "outputId": "37006b12-6026-4c75-d31b-745271f49581"
      },
      "outputs": [
        {
          "data": {
            "text/plain": [
              "45"
            ]
          },
          "execution_count": 6,
          "metadata": {},
          "output_type": "execute_result"
        }
      ],
      "source": [
        "suma_n(1,2,3,4,5,6,7,8,9)"
      ]
    },
    {
      "cell_type": "code",
      "execution_count": null,
      "id": "ca5aea92",
      "metadata": {
        "id": "ca5aea92"
      },
      "outputs": [],
      "source": [
        "def Mayus(*palabras):\n",
        "    for p in palabras:\n",
        "        print(p.upper())"
      ]
    },
    {
      "cell_type": "code",
      "execution_count": null,
      "id": "b155749c",
      "metadata": {
        "id": "b155749c"
      },
      "outputs": [],
      "source": [
        "Lista_p=[\"Buenos\",\"días\",\"a\",\"ToDos\",\"Curso\",\"de\",\"pf\"]"
      ]
    },
    {
      "cell_type": "code",
      "execution_count": null,
      "id": "f6fad7ee",
      "metadata": {
        "id": "f6fad7ee",
        "outputId": "884aaa64-7ea9-4762-eab8-03d61e869526"
      },
      "outputs": [
        {
          "name": "stdout",
          "output_type": "stream",
          "text": [
            "BUENOS\n",
            "DÍAS\n",
            "A\n",
            "TODOS\n",
            "CURSO\n",
            "DE\n",
            "PF\n"
          ]
        }
      ],
      "source": [
        "Mayus(*Lista_p)"
      ]
    },
    {
      "cell_type": "code",
      "execution_count": null,
      "id": "e91b5a3c",
      "metadata": {
        "id": "e91b5a3c"
      },
      "outputs": [],
      "source": [
        "def imprimir_ka(**kwargs):\n",
        "    print(kwargs)"
      ]
    },
    {
      "cell_type": "code",
      "execution_count": null,
      "id": "9eee117b",
      "metadata": {
        "id": "9eee117b",
        "outputId": "50db3ae7-10aa-4530-f0ed-b77ff7dfddab"
      },
      "outputs": [
        {
          "name": "stdout",
          "output_type": "stream",
          "text": [
            "{'kwarg1': 'Uno', 'kwarg2': 'Dos', 'kwarg3': 'Tres'}\n"
          ]
        }
      ],
      "source": [
        "imprimir_ka(kwarg1=\"Uno\",kwarg2=\"Dos\",kwarg3=\"Tres\")"
      ]
    },
    {
      "cell_type": "code",
      "execution_count": null,
      "id": "1f375e11",
      "metadata": {
        "id": "1f375e11"
      },
      "outputs": [],
      "source": [
        "def suma_n(a,b,*args):\n",
        "    return a+b+sum(args)"
      ]
    },
    {
      "cell_type": "code",
      "execution_count": null,
      "id": "1329efa0",
      "metadata": {
        "id": "1329efa0",
        "outputId": "d605371c-94cd-4607-a270-8da396133036"
      },
      "outputs": [
        {
          "data": {
            "text/plain": [
              "6"
            ]
          },
          "execution_count": 41,
          "metadata": {},
          "output_type": "execute_result"
        }
      ],
      "source": [
        "suma_n(1,2,3)"
      ]
    },
    {
      "cell_type": "code",
      "execution_count": null,
      "id": "024e4226",
      "metadata": {
        "id": "024e4226"
      },
      "outputs": [],
      "source": [
        "def calc2(a,b,c,*args,**kwargs):\n",
        "    if kwargs.get(\"operación\")==\"suma\":\n",
        "        print(\"La suma de a,b y c es: \", (a+b+c))\n",
        "    if kwargs.get(\"argumento\")==\"primero\":\n",
        "        print(\"El primer argumento es: \", a)\n",
        "    suma=0\n",
        "    for i in args:\n",
        "        suma= suma+i\n",
        "    print(\"La suma de los args es: \", suma)"
      ]
    },
    {
      "cell_type": "code",
      "execution_count": null,
      "id": "be4ee51f",
      "metadata": {
        "id": "be4ee51f"
      },
      "outputs": [],
      "source": [
        "numeros=[1,2,3,4,5]"
      ]
    },
    {
      "cell_type": "code",
      "execution_count": null,
      "id": "d38824d8",
      "metadata": {
        "id": "d38824d8",
        "outputId": "af91ad97-1215-4b73-d84e-7d64f9113913"
      },
      "outputs": [
        {
          "name": "stdout",
          "output_type": "stream",
          "text": [
            "La suma de a,b y c es:  6\n",
            "El primer argumento es:  1\n",
            "La suma de los args es:  15\n"
          ]
        }
      ],
      "source": [
        "calc2(1,2,3,*numeros,operación=\"suma\",argumento=\"primero\")\n",
        "#     a,b,c,*args,     *kwarg1,         kwarg2"
      ]
    },
    {
      "cell_type": "code",
      "execution_count": null,
      "id": "bdde545f",
      "metadata": {
        "id": "bdde545f"
      },
      "outputs": [],
      "source": []
    }
  ],
  "metadata": {
    "kernelspec": {
      "display_name": "Python 3",
      "language": "python",
      "name": "python3"
    },
    "language_info": {
      "codemirror_mode": {
        "name": "ipython",
        "version": 3
      },
      "file_extension": ".py",
      "mimetype": "text/x-python",
      "name": "python",
      "nbconvert_exporter": "python",
      "pygments_lexer": "ipython3",
      "version": "3.6.13"
    },
    "colab": {
      "provenance": []
    }
  },
  "nbformat": 4,
  "nbformat_minor": 5
}